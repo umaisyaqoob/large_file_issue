{
 "cells": [
  {
   "cell_type": "code",
   "execution_count": 1,
   "id": "61bffbd4",
   "metadata": {},
   "outputs": [],
   "source": [
    "import os\n",
    "from selenium import webdriver\n",
    "from selenium.webdriver.chrome.service import Service\n",
    "from webdriver_manager.chrome import ChromeDriverManager\n",
    "from selenium.webdriver.chrome.options import Options\n",
    "from selenium.webdriver.common.by import By\n",
    "from selenium.webdriver.support.ui import WebDriverWait\n",
    "from selenium.webdriver.support import expected_conditions as EC\n",
    "import json\n",
    "import time\n",
    "import subprocess"
   ]
  },
  {
   "cell_type": "code",
   "execution_count": 2,
   "id": "f3171285",
   "metadata": {},
   "outputs": [],
   "source": [
    "# Get the current working directory (works in notebooks and scripts)\n",
    "current_dir = os.getcwd()\n",
    "extension_path = os.path.join(current_dir, \"extension_source\")"
   ]
  },
  {
   "cell_type": "code",
   "execution_count": 3,
   "id": "bdaa9ecc",
   "metadata": {},
   "outputs": [],
   "source": [
    "# Configure Chrome options\n",
    "chrome_options = Options()\n",
    "\n",
    "# Add the UNPACKED extension\n",
    "chrome_options.add_argument(f\"--load-extension={extension_path}\")\n",
    "\n",
    "# Additional options to help with extension loading\n",
    "chrome_options.add_argument(\"--no-sandbox\")\n",
    "chrome_options.add_argument(\"--disable-dev-shm-usage\")\n",
    "chrome_options.add_argument(\"--disable-blink-features=AutomationControlled\")\n",
    "chrome_options.add_argument(\"--disable-web-security\")\n",
    "chrome_options.add_argument(\"--allow-running-insecure-content\")\n",
    "chrome_options.add_argument(\"--disable-features=VizDisplayCompositor\")\n",
    "chrome_options.add_argument(\"--disable-extensions-except=\" + extension_path)\n",
    "chrome_options.add_argument(\"--load-extension=\" + extension_path)"
   ]
  },
  {
   "cell_type": "code",
   "execution_count": 4,
   "id": "e0640401",
   "metadata": {},
   "outputs": [],
   "source": [
    "# Create a temporary user data directory\n",
    "import tempfile\n",
    "user_data_dir = tempfile.mkdtemp()\n",
    "chrome_options.add_argument(f\"--user-data-dir={user_data_dir}\")\n",
    "\n",
    "chrome_options.add_experimental_option(\"excludeSwitches\", [\"enable-automation\"])\n",
    "chrome_options.add_experimental_option('useAutomationExtension', False)\n",
    "\n",
    "# Create the service and driver\n",
    "service = Service(ChromeDriverManager().install())\n",
    "driver = webdriver.Chrome(service=service, options=chrome_options)\n",
    "\n",
    "# Execute script to remove webdriver property\n",
    "driver.execute_script(\"Object.defineProperty(navigator, 'webdriver', {get: () => undefined})\")\n"
   ]
  },
  {
   "cell_type": "code",
   "execution_count": 5,
   "id": "b7106632",
   "metadata": {},
   "outputs": [],
   "source": [
    "driver.get('chrome://extensions/')"
   ]
  },
  {
   "cell_type": "code",
   "execution_count": 6,
   "id": "dc566d07",
   "metadata": {},
   "outputs": [],
   "source": [
    "from selenium import webdriver\n",
    "from selenium.webdriver.chrome.service import Service\n",
    "from webdriver_manager.chrome import ChromeDriverManager"
   ]
  },
  {
   "cell_type": "code",
   "execution_count": 7,
   "id": "c335bca0",
   "metadata": {},
   "outputs": [],
   "source": [
    "from selenium.webdriver.common.by import By"
   ]
  },
  {
   "cell_type": "code",
   "execution_count": 8,
   "id": "5ce0e057",
   "metadata": {},
   "outputs": [],
   "source": [
    "driver.get('chrome-extension://hapgiopokcmcnjmakciaeaocceodcjdn/Popup.html')"
   ]
  },
  {
   "cell_type": "code",
   "execution_count": 9,
   "id": "84116b41",
   "metadata": {},
   "outputs": [],
   "source": [
    "name = driver.find_element(By.ID, 'apiKey').send_keys('3608f5e5012070ab8e5d1209dca111d6')"
   ]
  },
  {
   "cell_type": "code",
   "execution_count": 10,
   "id": "87078336",
   "metadata": {},
   "outputs": [],
   "source": [
    "checkbox = driver.find_element(By.ID, 'Auto').click()"
   ]
  },
  {
   "cell_type": "code",
   "execution_count": 11,
   "id": "6a8135a6",
   "metadata": {},
   "outputs": [],
   "source": [
    "enabled = driver.find_element(By.CLASS_NAME, 'switch').click()"
   ]
  },
  {
   "cell_type": "code",
   "execution_count": 12,
   "id": "e1dc1e98",
   "metadata": {},
   "outputs": [],
   "source": [
    "driver.get(\"https://www.facebook.com/\")\n",
    "\n",
    "driver.find_element(By.ID, \"email\").send_keys(\"habdullah4510@gmail.com\")\n",
    "driver.find_element(By.ID, \"pass\").send_keys(\"F-22385524\")\n",
    "driver.find_element(By.NAME, \"login\").click()"
   ]
  },
  {
   "cell_type": "code",
   "execution_count": 13,
   "id": "e76af372",
   "metadata": {},
   "outputs": [],
   "source": [
    "time.sleep(120)"
   ]
  },
  {
   "cell_type": "code",
   "execution_count": 14,
   "id": "e43485ba",
   "metadata": {},
   "outputs": [],
   "source": [
    "driver.get(\"https://www.facebook.com/\")\n",
    "driver.find_element(By.ID, \"email\").clear()\n",
    "driver.find_element(By.ID, \"email\").send_keys(\"habdullah4510@gmail.com\")\n",
    "driver.find_element(By.ID, \"pass\").clear()\n",
    "driver.find_element(By.ID, \"pass\").send_keys(\"F-22385524\")\n",
    "driver.find_element(By.NAME, \"login\").click()"
   ]
  }
 ],
 "metadata": {
  "kernelspec": {
   "display_name": "Python 3",
   "language": "python",
   "name": "python3"
  },
  "language_info": {
   "codemirror_mode": {
    "name": "ipython",
    "version": 3
   },
   "file_extension": ".py",
   "mimetype": "text/x-python",
   "name": "python",
   "nbconvert_exporter": "python",
   "pygments_lexer": "ipython3",
   "version": "3.13.3"
  }
 },
 "nbformat": 4,
 "nbformat_minor": 5
}
